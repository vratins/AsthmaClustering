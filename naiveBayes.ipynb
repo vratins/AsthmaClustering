{
 "cells": [
  {
   "cell_type": "code",
   "execution_count": 1,
   "metadata": {},
   "outputs": [],
   "source": [
    "import pandas as pd\n",
    "from sklearn.metrics import (\n",
    "    accuracy_score,\n",
    "    confusion_matrix,\n",
    "    ConfusionMatrixDisplay,\n",
    "    f1_score,\n",
    "    classification_report)\n",
    "from sklearn.model_selection import train_test_split\n",
    "from sklearn.naive_bayes import GaussianNB\n",
    "import matplotlib.pyplot as plt\n",
    "import numpy as np\n",
    "import seaborn as sns "
   ]
  },
  {
   "cell_type": "code",
   "execution_count": 2,
   "metadata": {},
   "outputs": [],
   "source": [
    "dataSet = pd.read_csv(\"filtered_data_BAL.csv\", usecols = range(1,155)).T\n",
    "dataSet = dataSet.drop(dataSet.index[[101, 102]]) \n",
    "dataSet[\"Labels\"] = 0\n",
    "# rows: gene names, using 152 rows\n",
    "# cols: samples, 2307 cols"
   ]
  },
  {
   "cell_type": "code",
   "execution_count": 3,
   "metadata": {},
   "outputs": [
    {
     "name": "stderr",
     "output_type": "stream",
     "text": [
      "/var/folders/c_/t9gykjb919v3fc912l8ql86h0000gn/T/ipykernel_53765/1183761148.py:4: SettingWithCopyWarning: \n",
      "A value is trying to be set on a copy of a slice from a DataFrame\n",
      "\n",
      "See the caveats in the documentation: https://pandas.pydata.org/pandas-docs/stable/user_guide/indexing.html#returning-a-view-versus-a-copy\n",
      "  dataSet[\"Labels\"][i] = 0\n",
      "/var/folders/c_/t9gykjb919v3fc912l8ql86h0000gn/T/ipykernel_53765/1183761148.py:8: SettingWithCopyWarning: \n",
      "A value is trying to be set on a copy of a slice from a DataFrame\n",
      "\n",
      "See the caveats in the documentation: https://pandas.pydata.org/pandas-docs/stable/user_guide/indexing.html#returning-a-view-versus-a-copy\n",
      "  dataSet[\"Labels\"][i] = 2\n",
      "/var/folders/c_/t9gykjb919v3fc912l8ql86h0000gn/T/ipykernel_53765/1183761148.py:6: SettingWithCopyWarning: \n",
      "A value is trying to be set on a copy of a slice from a DataFrame\n",
      "\n",
      "See the caveats in the documentation: https://pandas.pydata.org/pandas-docs/stable/user_guide/indexing.html#returning-a-view-versus-a-copy\n",
      "  dataSet[\"Labels\"][i] = 1\n"
     ]
    }
   ],
   "source": [
    "dataI = dataSet.index.values\n",
    "for i in range(len(dataSet)):\n",
    "    if dataI[i].find(\"NC\") != -1:\n",
    "        dataSet[\"Labels\"][i] = 0\n",
    "    elif dataI[i].find(\"_SA_\") != -1:\n",
    "        dataSet[\"Labels\"][i] = 1\n",
    "    elif dataI[i].find(\"_notSA_\") != -1:\n",
    "        dataSet[\"Labels\"][i] = 2\n",
    "\n",
    "X = dataSet.iloc[:,:-1]     # 152 rows x 2306 cols  \n",
    "y = dataSet.iloc[:,-1:]     # 152 rows x 1 col"
   ]
  },
  {
   "cell_type": "code",
   "execution_count": 4,
   "metadata": {},
   "outputs": [],
   "source": [
    "XTrain, XTest, yTrain, yTest = train_test_split(\n",
    "    X, y, test_size = 0.20, random_state = 125, shuffle = True)\n"
   ]
  },
  {
   "cell_type": "code",
   "execution_count": 6,
   "metadata": {},
   "outputs": [
    {
     "name": "stderr",
     "output_type": "stream",
     "text": [
      "/Users/sinhanushka_/opt/anaconda3/lib/python3.9/site-packages/sklearn/utils/validation.py:1111: DataConversionWarning: A column-vector y was passed when a 1d array was expected. Please change the shape of y to (n_samples, ), for example using ravel().\n",
      "  y = column_or_1d(y, warn=True)\n"
     ]
    }
   ],
   "source": [
    "guassianModel = GaussianNB()\n",
    "guassianModel.fit(XTrain, yTrain)\n",
    "yPred = guassianModel.predict(XTest)   "
   ]
  },
  {
   "cell_type": "code",
   "execution_count": 7,
   "metadata": {},
   "outputs": [
    {
     "name": "stdout",
     "output_type": "stream",
     "text": [
      "Accuracy: 0.7096774193548387\n",
      "F1 Score: 0.7218532574320051\n",
      "Naive Bayes score:  0.7096774193548387\n"
     ]
    }
   ],
   "source": [
    "accuray = accuracy_score(yPred, yTest)\n",
    "f1 = f1_score(yPred, yTest, average=\"weighted\")\n",
    "print(\"Accuracy:\", accuray)\n",
    "print(\"F1 Score:\", f1)\n",
    "print(\"Naive Bayes score: \",guassianModel.score(XTest, yTest))"
   ]
  },
  {
   "cell_type": "code",
   "execution_count": 8,
   "metadata": {},
   "outputs": [
    {
     "data": {
      "image/png": "[encoded data removed]",
      "text/plain": [
       "<Figure size 640x480 with 2 Axes>"
      ]
     },
     "metadata": {},
     "output_type": "display_data"
    }
   ],
   "source": [
    "matrix = confusion_matrix(yTest, yPred)\n",
    "disp = ConfusionMatrixDisplay(confusion_matrix=matrix)\n",
    "disp = disp.plot(cmap=plt.cm.Blues,values_format='g')\n",
    "plt.show()"
   ]
  }
 ],
 "metadata": {
  "kernelspec": {
   "display_name": "Python 3.9.13 ('base')",
   "language": "python",
   "name": "python3"
  },
  "language_info": {
   "codemirror_mode": {
    "name": "ipython",
    "version": 3
   },
   "file_extension": ".py",
   "mimetype": "text/x-python",
   "name": "python",
   "nbconvert_exporter": "python",
   "pygments_lexer": "ipython3",
   "version": "3.9.13"
  },
  "orig_nbformat": 4,
  "vscode": {
   "interpreter": {
    "hash": "70d57c135da11913b2ad31fa6150ab201732e694e7c1a956b2909783da6a3273"
   }
  }
 },
 "nbformat": 4,
 "nbformat_minor": 2
}
