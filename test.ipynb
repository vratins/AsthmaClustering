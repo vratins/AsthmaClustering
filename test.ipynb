{
 "cells": [
  {
   "cell_type": "code",
   "execution_count": 1,
   "metadata": {},
   "outputs": [],
   "source": [
    "import pandas as pd\n",
    "from sklearn.metrics import (\n",
    "    accuracy_score,\n",
    "    confusion_matrix,\n",
    "    ConfusionMatrixDisplay,\n",
    "    f1_score,\n",
    "    classification_report)\n",
    "from sklearn.model_selection import train_test_split, KFold\n",
    "from sklearn.naive_bayes import GaussianNB\n",
    "import matplotlib.pyplot as plt\n",
    "import numpy as np\n",
    "import seaborn as sns \n",
    "from sklearn.ensemble import RandomForestClassifier\n",
    "from sklearn.datasets import make_classification"
   ]
  },
  {
   "cell_type": "code",
   "execution_count": 7,
   "metadata": {},
   "outputs": [
    {
     "name": "stderr",
     "output_type": "stream",
     "text": [
      "c:\\Users\\vrati\\HW\\ML\\HW4\\.conda\\lib\\site-packages\\ipykernel_launcher.py:10: SettingWithCopyWarning: \n",
      "A value is trying to be set on a copy of a slice from a DataFrame\n",
      "\n",
      "See the caveats in the documentation: https://pandas.pydata.org/pandas-docs/stable/user_guide/indexing.html#returning-a-view-versus-a-copy\n",
      "  # Remove the CWD from sys.path while we load stuff.\n",
      "c:\\Users\\vrati\\HW\\ML\\HW4\\.conda\\lib\\site-packages\\ipykernel_launcher.py:14: SettingWithCopyWarning: \n",
      "A value is trying to be set on a copy of a slice from a DataFrame\n",
      "\n",
      "See the caveats in the documentation: https://pandas.pydata.org/pandas-docs/stable/user_guide/indexing.html#returning-a-view-versus-a-copy\n",
      "  \n",
      "c:\\Users\\vrati\\HW\\ML\\HW4\\.conda\\lib\\site-packages\\ipykernel_launcher.py:12: SettingWithCopyWarning: \n",
      "A value is trying to be set on a copy of a slice from a DataFrame\n",
      "\n",
      "See the caveats in the documentation: https://pandas.pydata.org/pandas-docs/stable/user_guide/indexing.html#returning-a-view-versus-a-copy\n",
      "  if sys.path[0] == \"\":\n"
     ]
    }
   ],
   "source": [
    "dataSet = pd.read_csv(\"filtered_data_BAL.csv\", usecols = range(1,155)).T\n",
    "dataSet = dataSet.drop(dataSet.index[[101, 102]]) \n",
    "dataSet[\"Labels\"] = 0\n",
    "# rows: gene names, using 152 rows\n",
    "# cols: samples, 2307 cols\n",
    "\n",
    "dataI = dataSet.index.values\n",
    "for i in range(len(dataSet)):\n",
    "    if dataI[i].find(\"NC\") != -1:\n",
    "        dataSet[\"Labels\"][i] = 0\n",
    "    elif dataI[i].find(\"_SA_\") != -1:\n",
    "        dataSet[\"Labels\"][i] = 1\n",
    "    elif dataI[i].find(\"_notSA_\") != -1:\n",
    "        dataSet[\"Labels\"][i] = 2\n",
    "\n",
    "X = dataSet.iloc[:,:-1].to_numpy()     # 152 rows x 2306 cols  \n",
    "y = dataSet.iloc[:,-1:].to_numpy()"
   ]
  },
  {
   "cell_type": "code",
   "execution_count": 8,
   "metadata": {},
   "outputs": [],
   "source": [
    "gaussianModel = GaussianNB()\n",
    "\n",
    "# split the data into 5 folds\n",
    "kf = KFold(n_splits=5, shuffle=True, random_state=42)\n",
    "\n",
    "accuracy_scores = []\n",
    "f1_scores = []"
   ]
  },
  {
   "cell_type": "code",
   "execution_count": 10,
   "metadata": {},
   "outputs": [
    {
     "name": "stderr",
     "output_type": "stream",
     "text": [
      "c:\\Users\\vrati\\HW\\ML\\HW4\\.conda\\lib\\site-packages\\sklearn\\utils\\validation.py:985: DataConversionWarning: A column-vector y was passed when a 1d array was expected. Please change the shape of y to (n_samples, ), for example using ravel().\n",
      "  y = column_or_1d(y, warn=True)\n",
      "c:\\Users\\vrati\\HW\\ML\\HW4\\.conda\\lib\\site-packages\\sklearn\\utils\\validation.py:985: DataConversionWarning: A column-vector y was passed when a 1d array was expected. Please change the shape of y to (n_samples, ), for example using ravel().\n",
      "  y = column_or_1d(y, warn=True)\n",
      "c:\\Users\\vrati\\HW\\ML\\HW4\\.conda\\lib\\site-packages\\sklearn\\utils\\validation.py:985: DataConversionWarning: A column-vector y was passed when a 1d array was expected. Please change the shape of y to (n_samples, ), for example using ravel().\n",
      "  y = column_or_1d(y, warn=True)\n",
      "c:\\Users\\vrati\\HW\\ML\\HW4\\.conda\\lib\\site-packages\\sklearn\\utils\\validation.py:985: DataConversionWarning: A column-vector y was passed when a 1d array was expected. Please change the shape of y to (n_samples, ), for example using ravel().\n",
      "  y = column_or_1d(y, warn=True)\n",
      "c:\\Users\\vrati\\HW\\ML\\HW4\\.conda\\lib\\site-packages\\sklearn\\utils\\validation.py:985: DataConversionWarning: A column-vector y was passed when a 1d array was expected. Please change the shape of y to (n_samples, ), for example using ravel().\n",
      "  y = column_or_1d(y, warn=True)\n"
     ]
    }
   ],
   "source": [
    "for train_index, test_index in kf.split(X):\n",
    "    # get the training and testing data for this fold\n",
    "    XTrain, XTest = X[train_index], X[test_index]\n",
    "    yTrain, yTest = y[train_index], y[test_index]\n",
    "\n",
    "    # train the model on the training data\n",
    "    gaussianModel.fit(XTrain, yTrain)\n",
    "\n",
    "    # make predictions on the test data\n",
    "    yPred = gaussianModel.predict(XTest)\n",
    "\n",
    "    # calculate the accuracy and F1 score for this fold\n",
    "    accuracy = accuracy_score(yPred, yTest)\n",
    "    f1 = f1_score(yPred, yTest, average=\"weighted\")\n",
    "\n",
    "    # append the scores to the lists\n",
    "    accuracy_scores.append(accuracy)\n",
    "    f1_scores.append(f1)"
   ]
  },
  {
   "cell_type": "code",
   "execution_count": 13,
   "metadata": {},
   "outputs": [
    {
     "name": "stdout",
     "output_type": "stream",
     "text": [
      "Average Accuracy: 0.7109677419354838\n",
      "Average F1 Score: 0.7259513902156967\n"
     ]
    }
   ],
   "source": [
    "avg_accuracy = sum(accuracy_scores) / len(accuracy_scores)\n",
    "avg_f1 = sum(f1_scores) / len(f1_scores)\n",
    "\n",
    "print(\"Average Accuracy:\", avg_accuracy)\n",
    "print(\"Average F1 Score:\", avg_f1)"
   ]
  }
 ],
 "metadata": {
  "kernelspec": {
   "display_name": "Python 3",
   "language": "python",
   "name": "python3"
  },
  "language_info": {
   "codemirror_mode": {
    "name": "ipython",
    "version": 3
   },
   "file_extension": ".py",
   "mimetype": "text/x-python",
   "name": "python",
   "nbconvert_exporter": "python",
   "pygments_lexer": "ipython3",
   "version": "3.7.16"
  },
  "orig_nbformat": 4
 },
 "nbformat": 4,
 "nbformat_minor": 2
}
