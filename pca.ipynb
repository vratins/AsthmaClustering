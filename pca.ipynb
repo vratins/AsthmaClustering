{
 "cells": [
  {
   "cell_type": "code",
   "execution_count": 1,
   "metadata": {},
   "outputs": [],
   "source": [
    "import numpy as np\n",
    "import matplotlib.pyplot as plt\n",
    "import pandas as pd"
   ]
  },
  {
   "cell_type": "code",
   "execution_count": 2,
   "metadata": {},
   "outputs": [],
   "source": [
    "def pca(X, D):\n",
    "    \"\"\"\n",
    "    PCA\n",
    "    Input:\n",
    "        X - An (1024, 1024) numpy array\n",
    "        D - An int less than 1024. The target dimension\n",
    "    Output:\n",
    "        X - A compressed (1024, 1024) numpy array\n",
    "    \"\"\"\n",
    "    u, e, v = np.linalg.svd(np.dot(X.T, X))\n",
    "    eigen = v.T[:, 0:D]\n",
    "    final = np.dot(X, eigen)\n",
    "    #return np.dot(final, eigen.T)\n",
    "    return final"
   ]
  },
  {
   "cell_type": "code",
   "execution_count": 3,
   "metadata": {},
   "outputs": [],
   "source": [
    "def sklearn_pca(X, D):\n",
    "    \"\"\"\n",
    "    Your PCA implementation should be equivalent to this function.\n",
    "    Do not use this function in your implementation!\n",
    "    \"\"\"\n",
    "    from sklearn.decomposition import PCA\n",
    "    p = PCA(n_components=D, svd_solver='full')\n",
    "    trans_pca = p.fit_transform(X)\n",
    "    X = p.inverse_transform(trans_pca)\n",
    "    return X"
   ]
  },
  {
   "cell_type": "code",
   "execution_count": 5,
   "metadata": {},
   "outputs": [
    {
     "ename": "SyntaxError",
     "evalue": "invalid syntax (2161287804.py, line 1)",
     "output_type": "error",
     "traceback": [
      "\u001b[1;36m  Cell \u001b[1;32mIn[5], line 1\u001b[1;36m\u001b[0m\n\u001b[1;33m    X = pd.read_csv(\"Data/BAL/normdataBAL0715.txt\", sep = '\\t', skiprows= range(1001, 45015), usecols = [2:] )\u001b[0m\n\u001b[1;37m                                                                                                          ^\u001b[0m\n\u001b[1;31mSyntaxError\u001b[0m\u001b[1;31m:\u001b[0m invalid syntax\n"
     ]
    }
   ],
   "source": [
    "X = pd.read_csv(\"Data/BAL/normdataBAL0715.txt\", sep = '\\t', delimiter='\\t', nrows=1000, usecols=range(1, None))\n",
    "print(X)\n",
    "# D = 2\n",
    "# pca_final=pca(X, D)\n",
    "# pca_sklearn=sklearn_pca(X, D)\n",
    "# print(pca_final,pca_sklearn)"
   ]
  }
 ],
 "metadata": {
  "kernelspec": {
   "display_name": "Python 3",
   "language": "python",
   "name": "python3"
  },
  "language_info": {
   "codemirror_mode": {
    "name": "ipython",
    "version": 3
   },
   "file_extension": ".py",
   "mimetype": "text/x-python",
   "name": "python",
   "nbconvert_exporter": "python",
   "pygments_lexer": "ipython3",
   "version": "3.11.1"
  },
  "orig_nbformat": 4
 },
 "nbformat": 4,
 "nbformat_minor": 2
}
