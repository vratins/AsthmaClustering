{
 "cells": [
  {
   "cell_type": "code",
   "execution_count": 18,
   "metadata": {},
   "outputs": [],
   "source": [
    "import numpy as np\n",
    "import matplotlib.pyplot as plt\n",
    "import pandas as pd\n",
    "import seaborn as sns\n",
    "from scipy import stats\n",
    "from statsmodels.stats.multitest import multipletests"
   ]
  },
  {
   "cell_type": "code",
   "execution_count": 19,
   "metadata": {},
   "outputs": [],
   "source": [
    "def pca(X, D):\n",
    "    \"\"\"\n",
    "    PCA\n",
    "    Input:\n",
    "        X - An (1024, 1024) numpy array\n",
    "        D - An int less than 1024. The target dimension\n",
    "    Output:\n",
    "        X - A compressed (1024, 1024) numpy array\n",
    "    \"\"\"\n",
    "    X = (X - np.mean(X, axis=0))/np.std(X, axis=0)\n",
    "    u, e, v = np.linalg.svd(np.dot(X.T, X))\n",
    "    eigen = v.T[:, 0:D]\n",
    "    final = np.dot(X, eigen)\n",
    "    #return np.dot(final, eigen.T)\n",
    "    return final"
   ]
  },
  {
   "cell_type": "code",
   "execution_count": 20,
   "metadata": {},
   "outputs": [],
   "source": [
    "def sklearn_pca(X, D):\n",
    "    \"\"\"\n",
    "    Your PCA implementation should be equivalent to this function.\n",
    "    Do not use this function in your implementation!\n",
    "    \"\"\"\n",
    "    X = (X - np.mean(X, axis=0))/np.std(X, axis=0)\n",
    "    from sklearn.decomposition import PCA\n",
    "    p = PCA(n_components=D, svd_solver='full')\n",
    "    trans_pca = p.fit_transform(X)\n",
    "    var = p.explained_variance_ratio_\n",
    "    return trans_pca, var"
   ]
  },
  {
   "cell_type": "code",
   "execution_count": 21,
   "metadata": {},
   "outputs": [],
   "source": [
    "X = pd.read_csv(\"Data/BAL/normdataBAL0715.txt\", sep = '\\t', usecols=range(2,156))\n",
    "df = X"
   ]
  },
  {
   "cell_type": "code",
   "execution_count": 22,
   "metadata": {},
   "outputs": [],
   "source": [
    "anova_results = pd.DataFrame(index=df.index, columns=['F-value', 'p-value'])\n",
    "\n",
    "for gene in df.index:\n",
    "    group1 = df.loc[gene, df.columns.str.contains('NC')]\n",
    "    group2 = df.loc[gene, df.columns.str.contains('SA')]\n",
    "    group3 = df.loc[gene, df.columns.str.contains('notSA')]\n",
    "    group4 = df.loc[gene, df.columns.str.contains('VSA')]\n",
    "    f_value, p_value = stats.f_oneway(group1, group2, group3, group4)\n",
    "    anova_results.loc[gene, 'F-value'] = f_value\n",
    "    anova_results.loc[gene, 'p-value'] = p_value"
   ]
  },
  {
   "cell_type": "code",
   "execution_count": 23,
   "metadata": {},
   "outputs": [],
   "source": [
    "alpha = 0.05\n",
    "bh_corrected_pvals = multipletests(anova_results['p-value'], method='fdr_bh')[1]\n",
    "filtered_genes = anova_results.index[bh_corrected_pvals < alpha]"
   ]
  },
  {
   "cell_type": "code",
   "execution_count": 25,
   "metadata": {},
   "outputs": [],
   "source": [
    "filtered_df = df.loc[filtered_genes]\n",
    "filtered_df.to_csv(\"filtered_data_BAL.csv\")"
   ]
  },
  {
   "cell_type": "code",
   "execution_count": null,
   "metadata": {},
   "outputs": [],
   "source": [
    "\n",
    "D = 2\n",
    "pca_final=pca(X, D)\n",
    "pca_sklearn, var=sklearn_pca(X, D)\n",
    "print(var)\n",
    "\n",
    "plt.scatter(pca_sklearn[:, 0], pca_sklearn[:, 1])\n",
    "plt.title('PCA')\n",
    "plt.show()"
   ]
  },
  {
   "cell_type": "code",
   "execution_count": null,
   "metadata": {},
   "outputs": [],
   "source": [
    "# #Create heatmap\n",
    "# sns.clustermap(df_gene, cmap='coolwarm', center=0, metric='euclidean',\n",
    "#                row_cluster=True, figsize=(20, 10), dendrogram_ratio=(0.1, 0.2),\n",
    "#                cbar_kws={'label': 'Expression for BAL'},\n",
    "#                yticklabels=False, xticklabels=True)"
   ]
  }
 ],
 "metadata": {
  "kernelspec": {
   "display_name": "Python 3",
   "language": "python",
   "name": "python3"
  },
  "language_info": {
   "codemirror_mode": {
    "name": "ipython",
    "version": 3
   },
   "file_extension": ".py",
   "mimetype": "text/x-python",
   "name": "python",
   "nbconvert_exporter": "python",
   "pygments_lexer": "ipython3",
   "version": "3.11.1"
  },
  "orig_nbformat": 4
 },
 "nbformat": 4,
 "nbformat_minor": 2
}
