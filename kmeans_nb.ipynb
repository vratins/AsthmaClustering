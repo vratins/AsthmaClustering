{
 "cells": [
  {
   "cell_type": "code",
   "execution_count": 3,
   "metadata": {},
   "outputs": [],
   "source": [
    "import numpy as np\n",
    "import pandas as pd\n",
    "import matplotlib.pyplot as plt"
   ]
  },
  {
   "cell_type": "code",
   "execution_count": 2,
   "metadata": {},
   "outputs": [],
   "source": [
    "# Generates the Clusters \n",
    "def generate_clusters(data, means):\n",
    "    clusters = [[] for _ in range(means.shape[1])] #generating list of clusters \n",
    "    for i in range(data.shape[0]):\n",
    "        distances = np.linalg.norm(data[i] - means.T, axis=1) \n",
    "        cluster_index = np.argmin(distances) #cluster_index is the minimum distance cluster, assigned to the ith gene\n",
    "        clusters[cluster_index].append(i) #ith gene added to the cluster with index cluster_index\n",
    "    return clusters\n",
    "\n",
    "# Updates the clusters and determines if convergence has or has not reached convergence\n",
    "def update_clusters(data, clusters, means):\n",
    "    converged = True #setting a converge variable to check whether the means change after updating\n",
    "    for i in range(len(clusters)):\n",
    "        cluster = clusters[i]\n",
    "        if len(cluster) == 0: #checking if the cluster is empty\n",
    "            continue\n",
    "        new_mean = np.mean(data[cluster], axis=0) #new centroid is the means of data points of old cluster\n",
    "        if not np.array_equal(new_mean, means[:, i]): #if means change, the algorithm has not converged\n",
    "            converged = False\n",
    "        means[:, i] = new_mean\n",
    "    return converged, means\n",
    "\n",
    "def k_means(data,means, k, max_iterations):\n",
    "    iterations = 0\n",
    "    obj_values = []\n",
    "    while iterations < max_iterations: #continue clustering until max iterations reached\n",
    "        clusters = generate_clusters(data, means)\n",
    "        obj_value = 0 \n",
    "        for i in range(len(clusters)): #ranging over the clusters\n",
    "            cluster = clusters[i]\n",
    "            for j in range(len(cluster)): #ranging over the number of elements in ith cluster\n",
    "                data_point = data[cluster[j]] #retrieving the (cluster[j])th element in data\n",
    "                distance = np.square(euclidean_distance(data_point, means[:, i])) #calculating distance of gene from centroid\n",
    "                obj_value += distance  \n",
    "        obj_values.append(obj_value)\n",
    "        converged, means = update_clusters(data, clusters, means) \n",
    "        if len(clusters[0]) == data.shape[0] or converged: #if algorithm has converged or all elements in one cluster\n",
    "            break\n",
    "        iterations += 1\n",
    "    return clusters, means, obj_values\n",
    "\n",
    "def euclidean_distance(x, y):\n",
    "    return np.linalg.norm(x - y)\n",
    "\n",
    "\n",
    "def random_clusters(data,k):\n",
    "    means_random = np.random.randint(1,data.shape[0]+1,size=k)\n",
    "    means_array=np.zeros((data.shape[1],k))\n",
    "    for i in range(len(means_random)):\n",
    "        means_array[:,i]=data[means_random[i],:]\n",
    "    clusters, means, obj_values = k_means(data, means_array, k, 50)\n",
    "    return clusters, means, obj_values\n",
    "\n",
    "def heatmap(clusters,data,index,minimum):\n",
    "    \n",
    "    grouped_data = []\n",
    "    for i in range(len(clusters)):\n",
    "        cluster_data = np.zeros((data.shape[1], len(clusters[i])))\n",
    "        for j in range(len(clusters[i])):\n",
    "            cluster_data[:, j] = data.T[:, clusters[i][j]]\n",
    "        grouped_data.append(cluster_data)\n",
    "\n",
    "    grouped_data = np.concatenate(grouped_data, axis=1)\n",
    "\n",
    "        \n",
    "    grouped = np.corrcoef(grouped_data.T)\n",
    "    title=\"CC Matrix of Grouped Data K=\"+str(index)+\", Objective Function:\"+str(minimum)\n",
    "    plt.imshow(grouped)\n",
    "    plt.colorbar()\n",
    "    plt.title(title, fontsize=5)\n",
    "    plt.show"
   ]
  },
  {
   "cell_type": "code",
   "execution_count": 15,
   "metadata": {},
   "outputs": [
    {
     "data": {
      "text/plain": [
       "(780, 154)"
      ]
     },
     "execution_count": 15,
     "metadata": {},
     "output_type": "execute_result"
    }
   ],
   "source": [
    "#load and process data here\n",
    "data_pd = pd.read_csv(\"filtered_data_BAL.csv\").iloc[:,1:]\n",
    "data = data_pd.to_numpy()\n",
    "data.shape"
   ]
  },
  {
   "cell_type": "code",
   "execution_count": null,
   "metadata": {},
   "outputs": [],
   "source": [
    "clusters,means,obj_values=random_clusters(data,3)\n",
    "min_obj=obj_values[-1]\n",
    "plt.plot(range(1, len(obj_values)+1), obj_values)\n",
    "plt.title('K-means Objective over Iterations Randomized - K=3')\n",
    "plt.xlabel('Iterations - Obj Value: {x}'.format(x=min_obj))\n",
    "plt.ylabel('Objective')\n",
    "plt.savefig(\"k-means3.png\")\n",
    "plt.show()"
   ]
  },
  {
   "cell_type": "code",
   "execution_count": null,
   "metadata": {},
   "outputs": [],
   "source": [
    "raw = np.corrcoef(data)\n",
    "plt.imshow(raw)\n",
    "plt.colorbar()\n",
    "plt.title('Correlation Coefficient Matrix of Raw Data')\n",
    "plt.savefig(\"CCMatrix.png\")\n",
    "plt.show()"
   ]
  },
  {
   "cell_type": "code",
   "execution_count": null,
   "metadata": {},
   "outputs": [],
   "source": []
  }
 ],
 "metadata": {
  "kernelspec": {
   "display_name": "Python 3",
   "language": "python",
   "name": "python3"
  },
  "language_info": {
   "codemirror_mode": {
    "name": "ipython",
    "version": 3
   },
   "file_extension": ".py",
   "mimetype": "text/x-python",
   "name": "python",
   "nbconvert_exporter": "python",
   "pygments_lexer": "ipython3",
   "version": "3.11.1"
  },
  "orig_nbformat": 4
 },
 "nbformat": 4,
 "nbformat_minor": 2
}
